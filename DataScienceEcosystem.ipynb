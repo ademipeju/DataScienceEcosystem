{
 "cells": [
  {
   "cell_type": "markdown",
   "id": "b8247f0c-c92c-45f2-8672-e41b2e2546b4",
   "metadata": {},
   "source": [
    "# Data Science Tools and Ecosystem"
   ]
  },
  {
   "cell_type": "code",
   "execution_count": null,
   "id": "44a13984-57ae-4c95-8d67-c5f1c25273e1",
   "metadata": {},
   "outputs": [],
   "source": []
  },
  {
   "cell_type": "markdown",
   "id": "a4a1a0ed-973b-49b7-aa42-71a7ac760423",
   "metadata": {},
   "source": [
    "## In this notebook, Data Science Tools and Ecosystem are summarized"
   ]
  },
  {
   "cell_type": "code",
   "execution_count": null,
   "id": "4c1a85eb-ddd3-49a4-97d8-4de40f870e31",
   "metadata": {},
   "outputs": [],
   "source": []
  },
  {
   "cell_type": "markdown",
   "id": "1090f73b-cda2-46dc-b306-dffa13989f1c",
   "metadata": {},
   "source": [
    "# Some of the popular languages that Data Scientists use are:\n",
    "1. Python\n",
    "2. R\n",
    "3. SQL"
   ]
  },
  {
   "cell_type": "code",
   "execution_count": null,
   "id": "80bf1d89-2fb7-4a82-96a3-0e3a3d7806b1",
   "metadata": {},
   "outputs": [],
   "source": []
  },
  {
   "cell_type": "markdown",
   "id": "f3f7492e-64f7-494f-baa1-fb7d4655845c",
   "metadata": {},
   "source": [
    "# Some of the commonly used libraries used by Data Scientists include:\n",
    "1. pandas\n",
    "2. numpy\n",
    "3. ggplot\n",
    "4. matplotlib\n",
    "5. sk-learn"
   ]
  },
  {
   "cell_type": "markdown",
   "id": "5de2a1de-12be-4fa0-85e5-b456119e5c68",
   "metadata": {},
   "source": [
    "| Data Science Tools|\n",
    "---------------------\n",
    "|Tensor flow\n",
    "|ApacheSpark|\n",
    "| MongoDB|\n",
    "--------------------\n"
   ]
  },
  {
   "cell_type": "markdown",
   "id": "ded8b362-3b63-46e3-b00a-80ecf1dc6db7",
   "metadata": {},
   "source": [
    "### Below are a few examples of evaluating arithmetic expressions in Python"
   ]
  },
  {
   "cell_type": "code",
   "execution_count": null,
   "id": "054c3e81-1c97-4e3d-b429-cc608096f08d",
   "metadata": {},
   "outputs": [],
   "source": []
  },
  {
   "cell_type": "code",
   "execution_count": 1,
   "id": "f46c3564-2b46-492c-a019-6e577b88e186",
   "metadata": {},
   "outputs": [
    {
     "data": {
      "text/plain": [
       "17"
      ]
     },
     "execution_count": 1,
     "metadata": {},
     "output_type": "execute_result"
    }
   ],
   "source": [
    "(3*4)+5\n",
    "#  This a simple arithmetic expression to mutiply then add integers"
   ]
  },
  {
   "cell_type": "code",
   "execution_count": null,
   "id": "e0507cd8-666f-446b-8bd5-771ed29a9ead",
   "metadata": {},
   "outputs": [],
   "source": []
  },
  {
   "cell_type": "code",
   "execution_count": 2,
   "id": "078eb434-636a-4538-8302-c86d3f29ad3c",
   "metadata": {},
   "outputs": [
    {
     "data": {
      "text/plain": [
       "3.3333333333333335"
      ]
     },
     "execution_count": 2,
     "metadata": {},
     "output_type": "execute_result"
    }
   ],
   "source": [
    "200/60\n",
    "#This will convert 200 minutes to hours by diving by 60"
   ]
  },
  {
   "cell_type": "code",
   "execution_count": null,
   "id": "e0b6a173-b584-469a-9705-6d0e6854cedc",
   "metadata": {},
   "outputs": [],
   "source": []
  },
  {
   "cell_type": "markdown",
   "id": "b6738c7e-7fcc-430a-a9db-1a22f272bc26",
   "metadata": {},
   "source": [
    "## Author\n",
    "Ogunsola Oluwatosin"
   ]
  },
  {
   "cell_type": "code",
   "execution_count": null,
   "id": "09540cfd-7758-4b68-b599-b221b10c110a",
   "metadata": {},
   "outputs": [],
   "source": []
  },
  {
   "cell_type": "code",
   "execution_count": null,
   "id": "065a849f-bbf2-4281-8d45-56519daad693",
   "metadata": {},
   "outputs": [],
   "source": []
  },
  {
   "cell_type": "code",
   "execution_count": null,
   "id": "68f38811-9671-4653-b518-1c89528a2ff5",
   "metadata": {},
   "outputs": [],
   "source": []
  },
  {
   "cell_type": "code",
   "execution_count": null,
   "id": "dbc3c075-1942-4d06-8747-7304997c8929",
   "metadata": {},
   "outputs": [],
   "source": []
  },
  {
   "cell_type": "code",
   "execution_count": null,
   "id": "1cb0d849-8179-451b-a9bd-f72067ca868d",
   "metadata": {},
   "outputs": [],
   "source": []
  }
 ],
 "metadata": {
  "kernelspec": {
   "display_name": "Python 3 (ipykernel)",
   "language": "python",
   "name": "python3"
  },
  "language_info": {
   "codemirror_mode": {
    "name": "ipython",
    "version": 3
   },
   "file_extension": ".py",
   "mimetype": "text/x-python",
   "name": "python",
   "nbconvert_exporter": "python",
   "pygments_lexer": "ipython3",
   "version": "3.11.7"
  }
 },
 "nbformat": 4,
 "nbformat_minor": 5
}
